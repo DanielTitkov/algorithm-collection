{
 "cells": [
  {
   "cell_type": "markdown",
   "metadata": {},
   "source": [
    "# Операции со строками"
   ]
  },
  {
   "cell_type": "markdown",
   "metadata": {},
   "source": [
    "## Переворот строки"
   ]
  },
  {
   "cell_type": "code",
   "execution_count": 1,
   "metadata": {},
   "outputs": [
    {
     "name": "stdout",
     "output_type": "stream",
     "text": [
      "raboof\n",
      "raboof\n"
     ]
    }
   ],
   "source": [
    "string = \"foobar\"\n",
    "\n",
    "def inverse_string_loop(string):\n",
    "    temp = \"\"\n",
    "    for i in string:\n",
    "        temp = i + temp\n",
    "    return temp\n",
    "    \n",
    "\n",
    "def inverse_string_slice(string):\n",
    "    return string[::-1]\n",
    "    \n",
    "print(inverse_string_loop(string))\n",
    "print(inverse_string_slice(string))"
   ]
  },
  {
   "cell_type": "markdown",
   "metadata": {},
   "source": [
    "#### Очень длинная строка - сравнение по скорости"
   ]
  },
  {
   "cell_type": "code",
   "execution_count": 2,
   "metadata": {},
   "outputs": [
    {
     "data": {
      "text/plain": [
       "600000"
      ]
     },
     "execution_count": 2,
     "metadata": {},
     "output_type": "execute_result"
    }
   ],
   "source": [
    "string = \"foobar\" * 100_000\n",
    "len(string)"
   ]
  },
  {
   "cell_type": "code",
   "execution_count": 3,
   "metadata": {},
   "outputs": [
    {
     "name": "stdout",
     "output_type": "stream",
     "text": [
      "Wall time: 20.3 s\n"
     ]
    }
   ],
   "source": [
    "%%time\n",
    "_ = inverse_string_loop(string)"
   ]
  },
  {
   "cell_type": "code",
   "execution_count": 4,
   "metadata": {},
   "outputs": [
    {
     "name": "stdout",
     "output_type": "stream",
     "text": [
      "Wall time: 1.28 ms\n"
     ]
    }
   ],
   "source": [
    "%%time\n",
    "_ = inverse_string_slice(string) "
   ]
  },
  {
   "cell_type": "code",
   "execution_count": 5,
   "metadata": {},
   "outputs": [],
   "source": [
    "del string"
   ]
  },
  {
   "cell_type": "markdown",
   "metadata": {},
   "source": [
    "#### Эксперименты с палиндромом"
   ]
  },
  {
   "cell_type": "code",
   "execution_count": 6,
   "metadata": {},
   "outputs": [
    {
     "name": "stdout",
     "output_type": "stream",
     "text": [
      "600000000\n"
     ]
    }
   ],
   "source": [
    "string = \"foobar\" * 100_000_000\n",
    "print(len(string))"
   ]
  },
  {
   "cell_type": "code",
   "execution_count": 7,
   "metadata": {},
   "outputs": [],
   "source": [
    "def palindrome_full_slice(string):\n",
    "    return string[::-1] == string\n",
    "\n",
    "\n",
    "def palindrome_half_slice(string):\n",
    "    size = len(string)\n",
    "    if not size % 2:\n",
    "        half = int(size/2)\n",
    "        return string[:half][::-1] == string[half:]\n",
    "    else:\n",
    "        half = int((size-1)/2)\n",
    "        return string[:half][::-1] == string[half+1:]\n",
    "        \n",
    "    \n",
    "def palindrome_full_loop(string):\n",
    "    pass\n",
    " \n",
    "    \n",
    "def palindrome_half_loop(string):\n",
    "    pass"
   ]
  },
  {
   "cell_type": "code",
   "execution_count": 8,
   "metadata": {},
   "outputs": [
    {
     "name": "stdout",
     "output_type": "stream",
     "text": [
      "False\n",
      "Wall time: 2.4 s\n"
     ]
    }
   ],
   "source": [
    "%%time\n",
    "print(palindrome_full_slice(string))"
   ]
  },
  {
   "cell_type": "code",
   "execution_count": 9,
   "metadata": {},
   "outputs": [
    {
     "name": "stdout",
     "output_type": "stream",
     "text": [
      "False\n",
      "Wall time: 1.85 s\n"
     ]
    }
   ],
   "source": [
    "%%time\n",
    "print(palindrome_half_slice(string))"
   ]
  },
  {
   "cell_type": "code",
   "execution_count": 10,
   "metadata": {},
   "outputs": [],
   "source": [
    "del string"
   ]
  },
  {
   "cell_type": "markdown",
   "metadata": {},
   "source": [
    "# Операции с числами"
   ]
  },
  {
   "cell_type": "code",
   "execution_count": 11,
   "metadata": {},
   "outputs": [
    {
     "name": "stdout",
     "output_type": "stream",
     "text": [
      "0 1\n",
      "1 1\n",
      "2 2\n",
      "3 6\n",
      "4 24\n",
      "5 120\n",
      "6 720\n"
     ]
    }
   ],
   "source": [
    "#factorial\n",
    "def fact(n):\n",
    "    if n <= 1:\n",
    "        return 1\n",
    "    return n*fact(n-1)\n",
    "\n",
    "for i in range(0,7):\n",
    "    print(i, fact(i))"
   ]
  },
  {
   "cell_type": "markdown",
   "metadata": {},
   "source": [
    "# Поиск"
   ]
  },
  {
   "cell_type": "code",
   "execution_count": 12,
   "metadata": {},
   "outputs": [],
   "source": [
    "array = list(range(0, 100_000_000))\n",
    "x = 90_199_199"
   ]
  },
  {
   "cell_type": "code",
   "execution_count": 13,
   "metadata": {},
   "outputs": [
    {
     "name": "stdout",
     "output_type": "stream",
     "text": [
      "90199199\n",
      "Wall time: 14.1 s\n"
     ]
    }
   ],
   "source": [
    "%%time\n",
    "# linear search O(n)\n",
    "def linear_seach(x, A):\n",
    "    for i in A:\n",
    "        if i == x:\n",
    "            return x\n",
    "    return False\n",
    "\n",
    "print(linear_seach(x, array))"
   ]
  },
  {
   "cell_type": "code",
   "execution_count": 14,
   "metadata": {},
   "outputs": [
    {
     "name": "stdout",
     "output_type": "stream",
     "text": [
      "90199199\n",
      "Wall time: 0 ns\n"
     ]
    }
   ],
   "source": [
    "%%time\n",
    "# binary search O(log n)\n",
    "def binary_search(x, A):\n",
    "    size = len(A)\n",
    "    low = 0\n",
    "    high = size - 1\n",
    "    while(low <= high):\n",
    "        mid = (low + high) // 2\n",
    "        if x == A[mid]:\n",
    "            return x\n",
    "        elif x > A[mid]:\n",
    "            low = mid + 1\n",
    "        else:\n",
    "            high = mid - 1\n",
    "    return False\n",
    "    \n",
    "print(binary_search(x, array))"
   ]
  },
  {
   "cell_type": "code",
   "execution_count": 15,
   "metadata": {},
   "outputs": [],
   "source": [
    "del x"
   ]
  },
  {
   "cell_type": "markdown",
   "metadata": {},
   "source": [
    "# Сортировка"
   ]
  },
  {
   "cell_type": "code",
   "execution_count": 16,
   "metadata": {},
   "outputs": [
    {
     "name": "stdout",
     "output_type": "stream",
     "text": [
      "[3771, 6672, 7261, 760, 3779, 1772, 7509, 2679, 2305, 9215]\n"
     ]
    }
   ],
   "source": [
    "import random\n",
    "random.seed(42)\n",
    "A = list(range(0, 10_000))\n",
    "random.shuffle(A)\n",
    "print(A[0:10])"
   ]
  },
  {
   "cell_type": "code",
   "execution_count": 17,
   "metadata": {},
   "outputs": [
    {
     "name": "stdout",
     "output_type": "stream",
     "text": [
      "[0, 1, 2, 3, 4, 5, 6, 7, 8, 9]\n",
      "Wall time: 22.5 s\n"
     ]
    }
   ],
   "source": [
    "%%time\n",
    "# bubble sort - Time O(n^2) - Space O(1) - Stable\n",
    "def bubble_sort(A):\n",
    "    lst = A.copy() # I want not to change input list, bur to return new one\n",
    "    size = len(lst)\n",
    "    for i in range(0, size-1):\n",
    "        for j in range(0, size-1-i):\n",
    "            if lst[j] > lst[j+1]:\n",
    "                lst[j], lst[j+1] = lst[j+1], lst[j]\n",
    "    return(lst)\n",
    "\n",
    "print(bubble_sort(A)[0:10])"
   ]
  },
  {
   "cell_type": "code",
   "execution_count": 18,
   "metadata": {},
   "outputs": [
    {
     "name": "stdout",
     "output_type": "stream",
     "text": [
      "[0, 1, 2, 3, 4, 5, 6, 7, 8, 9]\n",
      "Wall time: 8.33 s\n"
     ]
    }
   ],
   "source": [
    "%%time\n",
    "# selection sort - Time O(n^2) - Space O(1) - Not stable\n",
    "def selection_sort(A):\n",
    "    lst = A.copy()\n",
    "    for i in range(0, len(lst)-1):\n",
    "        min_index = i\n",
    "        for j in range(i+1, len(lst)):\n",
    "            if lst[j] < lst[min_index]:\n",
    "                min_index = j\n",
    "        if min_index != i:\n",
    "            lst[i], lst[min_index] = lst[min_index], lst[i]\n",
    "    return lst\n",
    "\n",
    "print(selection_sort(A)[0:10])"
   ]
  },
  {
   "cell_type": "code",
   "execution_count": 19,
   "metadata": {},
   "outputs": [
    {
     "name": "stdout",
     "output_type": "stream",
     "text": [
      "Wall time: 0 ns\n"
     ]
    }
   ],
   "source": [
    "%%time\n",
    "# merge sort - Time O(n log n) - Space O(n) - Stable\n",
    "def merge_sort(A):\n",
    "    pass\n",
    "\n",
    "\n",
    "# print(merge_sort(A)[0:10])"
   ]
  },
  {
   "cell_type": "code",
   "execution_count": 20,
   "metadata": {},
   "outputs": [
    {
     "name": "stdout",
     "output_type": "stream",
     "text": [
      "[0, 1, 2, 3, 4, 5, 6, 7, 8, 9]\n",
      "Wall time: 99.2 ms\n"
     ]
    }
   ],
   "source": [
    "%%time\n",
    "# quick sort - Time O(n log n) to O(n^2)  - Space O(1) - Not stable\n",
    "def quick_sort(A):\n",
    "    lst = A.copy()\n",
    "    _quick_sort(lst, 0, len(lst)-1)\n",
    "    return lst\n",
    "\n",
    "def _quick_sort(lst, low, high):\n",
    "    if low < high:\n",
    "        pivot = _partition(lst, low, high)\n",
    "        _quick_sort(lst, low, pivot)\n",
    "        _quick_sort(lst, pivot+1, high)\n",
    "        \n",
    "def _get_pivot(lst, low, high):\n",
    "    mid = (low + high) // 2\n",
    "    pivot = high\n",
    "    if lst[low] < lst[mid]:\n",
    "        if lst[mid] < lst[high]:\n",
    "            pivot = mid\n",
    "    elif lst[low] < lst[high]:\n",
    "        pivot = low\n",
    "    return pivot\n",
    "\n",
    "def _partition(lst, low, high):\n",
    "    pivotIndex = _get_pivot(lst, low, high)\n",
    "    pivotValue = lst[pivotIndex]\n",
    "    lst[pivotIndex], lst[low] = lst[low], lst[pivotIndex]\n",
    "    border = low\n",
    "    for i in range(low, high+1):\n",
    "        if lst[i] < pivotValue:\n",
    "            border += 1\n",
    "            lst[i], lst[border] = lst[border], lst[i]\n",
    "        lst[low], lst[border] = lst[border], lst[low] \n",
    "    return border\n",
    "    \n",
    "print(quick_sort(A)[:10])"
   ]
  },
  {
   "cell_type": "code",
   "execution_count": 21,
   "metadata": {},
   "outputs": [],
   "source": [
    "del A"
   ]
  },
  {
   "cell_type": "code",
   "execution_count": null,
   "metadata": {},
   "outputs": [],
   "source": []
  }
 ],
 "metadata": {
  "kernelspec": {
   "display_name": "Python 3",
   "language": "python",
   "name": "python3"
  },
  "language_info": {
   "codemirror_mode": {
    "name": "ipython",
    "version": 3
   },
   "file_extension": ".py",
   "mimetype": "text/x-python",
   "name": "python",
   "nbconvert_exporter": "python",
   "pygments_lexer": "ipython3",
   "version": "3.6.2"
  }
 },
 "nbformat": 4,
 "nbformat_minor": 2
}
